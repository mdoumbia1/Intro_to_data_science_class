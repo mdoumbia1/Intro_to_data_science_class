{
 "cells": [
  {
   "cell_type": "markdown",
   "metadata": {},
   "source": [
    "# Final Project Informations"
   ]
  },
  {
   "cell_type": "markdown",
   "metadata": {},
   "source": [
    "In this project, you are asked to analyse the Sanfrancisco Police Department Crime Rate Reports (crime_data.csv)"
   ]
  },
  {
   "cell_type": "markdown",
   "metadata": {},
   "source": [
    "[Part 1: Exploratory Data Analysis](#Part-1:-Exploratory-Data_Analysis)\n",
    "\n",
    "[Part 2: Feature Engineering](#Part-2:-Feature-Engineering)\n",
    "\n",
    "[Part 3: Support Vector Machine](#Part-3:-Support-Vector_Machine)\n",
    "\n",
    "[Part 4: Read Me](#Part-4:-Read-Me)"
   ]
  },
  {
   "cell_type": "markdown",
   "metadata": {},
   "source": [
    "# Deliverables\n",
    "\n",
    "Your team must prepare a 5 minute presentation that gives the CEO insights as to what type of films they should be creating to meet consumer demand. Your presentation should outline the process you went through and use at least 4 meaningful data visualizations to help illustrate your findings. Your team is expected to use git as a collaborative tool for this project to manage version control and history. No more than 8 slides.\n",
    "\n",
    "Be prepared to address questions such as:\n",
    "\n",
    "* \"What are the top 20 crimes in San francisco?\"\n",
    "* \"What is the incidences grouped by incident_days_of_the week( Monday-through-Sunday)?\"\n",
    "* \"What is the barplot of the incidents grouped by day_of_the_week?\"\n",
    "\n",
    "For the SVM model:\n",
    "* \"What is the confusion matrix?\"\n",
    "* \"What is the classification report?\"\n"
   ]
  },
  {
   "cell_type": "markdown",
   "metadata": {},
   "source": [
    "# Project Checklist\n",
    "\n",
    "* Use data that has been provided to you (crime_data.csv)\n",
    "* 1. Clean ddataset & record parameters used to clean the data\n",
    "* 2. Document every step of the clearing process\n",
    "* 3. Create at least two new features that were not present in the original data sets\n",
    "\n",
    "* Use Pandas and Numpy to generate useful metrics\n",
    "* Post to git repository:\n",
    "* A README.md listing project members, goals, responsibilities, and a summary of the files in the repository\n",
    "* At least 10 commits\n",
    "* 1. Must include short, descriptive commit messages\n",
    "* A Jupyter notebook targeted to a technical audience that contains\n",
    "* 1.Clean and commented code so an independent party can replicate your analysis and justify your analytical choices\n",
    "* 2. Code should follow Pep8 standards\n",
    "* 3. Custom functions should be stored in .py file and imported whenever possible\n",
    "* Your final cleaned dataset that was used for analysis\n",
    "* A narrative Jupyter notebook targeted to a non-technical audience that provides:\n",
    "* 1. The purpose of your analysis and why it matters\n",
    "* 2. 4 well annotated visualizations created using Matplotlib/Seaborn\n",
    "* 2. 2 meaningful summary tables\n",
    "* 3. At least four actionable insights\n",
    "* A pdf of no more than 8 slides used in project presentation targeting non-technical audience\n",
    "* 1.  Apply consistent and effective formatting to create a “professional” appearing deck\n",
    "* 2. Write an abbreviated high-level overview of methodology\n",
    "* 3. Justify at least 2 concrete recommendations\n",
    "* 4. Include exported visualizations from analysis\n",
    "* 5. Target the presentation to a non-technical audience, avoid jargon\n"
   ]
  },
  {
   "cell_type": "markdown",
   "metadata": {},
   "source": [
    "# Specifics:"
   ]
  },
  {
   "cell_type": "markdown",
   "metadata": {},
   "source": [
    "## This is an  Individual Project:\n",
    "\n"
   ]
  },
  {
   "cell_type": "markdown",
   "metadata": {},
   "source": [
    "## Timeline\n",
    "\n",
    "This project is due on 6 December 2020\n",
    "\n",
    "* Perform additional data cleanup, visualization, feature selection, modeling and/or model validation\n",
    "* Submit an improved version"
   ]
  },
  {
   "cell_type": "code",
   "execution_count": null,
   "metadata": {},
   "outputs": [],
   "source": []
  }
 ],
 "metadata": {
  "kernelspec": {
   "display_name": "Python 3",
   "language": "python",
   "name": "python3"
  },
  "language_info": {
   "codemirror_mode": {
    "name": "ipython",
    "version": 3
   },
   "file_extension": ".py",
   "mimetype": "text/x-python",
   "name": "python",
   "nbconvert_exporter": "python",
   "pygments_lexer": "ipython3",
   "version": "3.7.4"
  }
 },
 "nbformat": 4,
 "nbformat_minor": 2
}
