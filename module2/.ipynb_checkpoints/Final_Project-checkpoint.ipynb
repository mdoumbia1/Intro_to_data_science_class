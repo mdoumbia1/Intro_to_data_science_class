{
 "cells": [
  {
   "cell_type": "markdown",
   "metadata": {},
   "source": [
    "# First Project Informations"
   ]
  },
  {
   "cell_type": "markdown",
   "metadata": {},
   "source": [
    "Microsoft sees all the big companies creating original video content, and they want to get in on the fun. They have decided to create a new movie studio, but the problem is they don’t know anything about creating movies. They have hired you to help them better understand the movie industry. Your team has free range\n",
    "\n",
    "Therefore your team is charged with doing data analysis and creating a presentation that explores what type of films are currently doing the best at the box office. You must then translate those findings into actionable insights that the CEO can use when deciding what type of films they should be creating."
   ]
  },
  {
   "cell_type": "markdown",
   "metadata": {},
   "source": [
    "# Methodology\n",
    "\n",
    "Some areas you can look to examine are movie genres (Thriller, Drama, Comedy, etc.), movie ratings, budget, social media discussion, and critic or user reviews. Your team gets to define its own questions about the movie industry and then use its knowledge of descriptive statistics and the EDA process to try and answer those questions."
   ]
  },
  {
   "cell_type": "markdown",
   "metadata": {},
   "source": [
    "# Data Souce\n",
    "\n",
    "Microsoft has provided some data from Box Office Mojo, IMDB, Rotten Tomatoes, and TheMovieDB.org. You are not limited to these data sets! If you find other useful data on the web, you are welcome to include it (but this is not a requirement)."
   ]
  },
  {
   "cell_type": "markdown",
   "metadata": {},
   "source": [
    "# Deliverables\n",
    "\n",
    "Your team must prepare a 5 minute presentation that gives the CEO insights as to what type of films they should be creating to meet consumer demand. Your presentation should outline the process you went through and use at least 4 meaningful data visualizations to help illustrate your findings. Your team is expected to use git as a collaborative tool for this project to manage version control and history. No more than 8 slides.\n",
    "\n",
    "Be prepared to answer questions such as:\n",
    "\n",
    "* \"how did you pick the question(s) that you did?\"\n",
    "* \"why are these questions important from a business perspective?\"\n",
    "* \"how did you decide on the data cleaning options you performed?\"\n",
    "* \"why did you choose a given method or library?\"\n",
    "* \"why did you select those visualizations and what did you learn from each of them?\"\n"
   ]
  },
  {
   "cell_type": "markdown",
   "metadata": {},
   "source": [
    "# Project Checklist\n",
    "\n",
    "* Use data from at least two sources \n",
    "* 1. Clean ddataset & record parameters used to clean the data\n",
    "* 2. Document every step of the clearing process\n",
    "* 3. Create at least two new features that were not present in the original data sets\n",
    "\n",
    "* Use Pandas and Numpy to generate useful metrics for comparing films\n",
    "* Post to git repository:\n",
    "* A README.md listing project members, goals, responsibilities, and a summary of the files in the repository\n",
    "* At least 10 commits\n",
    "* 1. Must include short, descriptive commit messages\n",
    "* 2. Each project member should commit at least once\n",
    "* A Jupyter notebook targeted to a technical audience that contains\n",
    "* 1.Clean and commented code so an independent party can replicate your analysis and justify your analytical choices\n",
    "* 2. Code should follow Pep8 standards\n",
    "* 3. Custom functions should be stored in .py file and imported whenever possible\n",
    "* Your final joined and cleaned dataset that was used for analysis\n",
    "* A narrative Jupyter notebook targeted to a non-technical audience that provides:\n",
    "* 1. The purpose of your analysis and why it matters\n",
    "* 2. 4 well annotated visualizations created using Matplotlib/Seaborn\n",
    "* 2. 2 meaningful summary tables\n",
    "* 3. At least four actionable insights (What type of films should they be looking to produce? What should the budget requirements be? Should they recruit certain actors for their films?)\n",
    "* A pdf of no more than 8 slides used in project presentation targeting non-technical audience\n",
    "* 1.  Apply consistent and effective formatting to create a “professional” appearing deck\n",
    "* 2. Write an abbreviated high-level overview of methodology\n",
    "* 3. Justify at least 2 concrete recommendations\n",
    "* 4. Include exported visualizations from analysis\n",
    "* 5. Target the presentation to a non-technical audience, avoid jargon\n",
    "* 6. Take no more than 5 minutes to present"
   ]
  },
  {
   "cell_type": "markdown",
   "metadata": {},
   "source": [
    "# Specifics:"
   ]
  },
  {
   "cell_type": "markdown",
   "metadata": {},
   "source": [
    "## This project is in groups:\n",
    "* Group A: Ashly & Jeff\n",
    "* Group B: Ethan & Celecia\n"
   ]
  },
  {
   "cell_type": "markdown",
   "metadata": {},
   "source": [
    "## Timeline\n",
    "\n",
    "Check in with me 11/9/2020\n",
    "* Review data cleaning\n",
    "* Provide url of project repository\n",
    "* Review at least one table/chart\n",
    "* Review work plan created for how teammates will approach and divide work\n",
    "Demo presentation 11/12/2020( 10 mns max)\n",
    "* Have polished draft of deck completed\n",
    "* Have polished version of jupyter notebook completed\n",
    "# Project Review\n",
    "If any requirements are missing or if significant gaps in understanding are uncovered, be prepared to do one or all of the following:\n",
    "\n",
    "* Perform additional data cleanup, visualization, feature selection, modeling and/or model validation\n",
    "* Submit an improved version"
   ]
  },
  {
   "cell_type": "code",
   "execution_count": null,
   "metadata": {},
   "outputs": [],
   "source": []
  }
 ],
 "metadata": {
  "kernelspec": {
   "display_name": "Python 3",
   "language": "python",
   "name": "python3"
  },
  "language_info": {
   "codemirror_mode": {
    "name": "ipython",
    "version": 3
   },
   "file_extension": ".py",
   "mimetype": "text/x-python",
   "name": "python",
   "nbconvert_exporter": "python",
   "pygments_lexer": "ipython3",
   "version": "3.7.4"
  }
 },
 "nbformat": 4,
 "nbformat_minor": 2
}
